{
 "cells": [
  {
   "cell_type": "code",
   "execution_count": null,
   "metadata": {},
   "outputs": [],
   "source": [
    "from pandas import read_csv\n",
    "\n",
    "from matplotlib.pyplot import subplots\n",
    "\n",
    "df = read_csv('Data/patients.csv')\n",
    "\n",
    "df.head()\n"
   ]
  },
  {
   "cell_type": "markdown",
   "metadata": {},
   "source": [
    "__Calculate Correlations__"
   ]
  },
  {
   "cell_type": "code",
   "execution_count": null,
   "metadata": {},
   "outputs": [],
   "source": [
    "df.corr()"
   ]
  },
  {
   "cell_type": "code",
   "execution_count": null,
   "metadata": {},
   "outputs": [],
   "source": [
    "df_np = df.to_numpy()\n",
    "\n",
    "df_np.shape\n"
   ]
  },
  {
   "cell_type": "code",
   "execution_count": null,
   "metadata": {},
   "outputs": [],
   "source": [
    "from numpy import corrcoef\n",
    "\n",
    "cols = 5\n",
    "\n",
    "df_np_float = df_np[:, :cols].astype(float)\n",
    "\n",
    "df_corr = corrcoef(df_np_float, rowvar=False)\n",
    "\n",
    "df_corr\n"
   ]
  },
  {
   "cell_type": "code",
   "execution_count": null,
   "metadata": {},
   "outputs": [],
   "source": [
    "df_corr.shape"
   ]
  },
  {
   "cell_type": "code",
   "execution_count": null,
   "metadata": {},
   "outputs": [],
   "source": [
    "fig, ax = subplots()\n",
    "\n",
    "im = ax.imshow(df_corr, cmap='bwr')\n",
    "\n",
    "fig.colorbar(im);"
   ]
  },
  {
   "cell_type": "code",
   "execution_count": null,
   "metadata": {},
   "outputs": [],
   "source": [
    "from numpy import fill_diagonal\n",
    "\n",
    "fill_diagonal(df_corr, 0)\n",
    "\n",
    "df_corr\n"
   ]
  },
  {
   "cell_type": "code",
   "execution_count": null,
   "metadata": {},
   "outputs": [],
   "source": [
    "fig, ax = subplots()\n",
    "\n",
    "im = ax.imshow(df_corr, cmap='bwr')\n",
    "\n",
    "fig.colorbar(im);\n"
   ]
  },
  {
   "cell_type": "code",
   "execution_count": null,
   "metadata": {},
   "outputs": [],
   "source": [
    "from numpy import arange\n",
    "\n",
    "fig, ax = subplots(figsize=(8,8))\n",
    "\n",
    "im = ax.imshow(df_corr, cmap='bwr', vmin=-1, vmax=1)\n",
    "\n",
    "ax.set_xticks(arange(5))\n",
    "ax.set_yticks(arange(5))\n",
    "\n",
    "ax.set_xticklabels(df.columns[:cols], fontsize=13)\n",
    "ax.set_yticklabels(df.columns[:cols], fontsize=14)\n",
    "\n",
    "fig.colorbar(im, shrink=0.3, ticks=[-1, 0, 1]);\n"
   ]
  },
  {
   "cell_type": "markdown",
   "metadata": {},
   "source": [
    "# Save Figure"
   ]
  },
  {
   "cell_type": "code",
   "execution_count": null,
   "metadata": {},
   "outputs": [],
   "source": [
    "fig.savefig('test.pdf')"
   ]
  }
 ],
 "metadata": {
  "kernelspec": {
   "display_name": "Python 3 (ipykernel)",
   "language": "python",
   "name": "python3"
  },
  "language_info": {
   "codemirror_mode": {
    "name": "ipython",
    "version": 3
   },
   "file_extension": ".py",
   "mimetype": "text/x-python",
   "name": "python",
   "nbconvert_exporter": "python",
   "pygments_lexer": "ipython3",
   "version": "3.12.6"
  },
  "toc-autonumbering": false
 },
 "nbformat": 4,
 "nbformat_minor": 4
}
