{
 "cells": [
  {
   "cell_type": "markdown",
   "id": "e55ebb43",
   "metadata": {},
   "source": [
    "## L2D Assignment - Data Handling 2:"
   ]
  },
  {
   "cell_type": "markdown",
   "id": "a49d1f7a",
   "metadata": {},
   "source": [
    "This notebook contains your assignment questions for the Data Handling 2 lesson. Please attempt and complete all questions. The topics this assignment will assess are:\n",
    "\n",
    "1. Data Frames - Part 2\n",
    "\n",
    "\n",
    "When you have completed your assignment, please commit the changes to your GitHub repository's 'Assignments' folder, as instructed in the [Assignments section](https://learntodiscover.github.io/L2D-Handbook/section7.html) of the [L2D Handbook](https://learntodiscover.github.io/L2D-Handbook).\n"
   ]
  },
  {
   "cell_type": "markdown",
   "id": "35c63c2c",
   "metadata": {},
   "source": [
    "### Data Frames - Part 2"
   ]
  },
  {
   "cell_type": "markdown",
   "id": "2a121f5e-051a-4a73-bfc6-ef92c8ca6cc7",
   "metadata": {},
   "source": [
    "\n",
    "Download the breast cancer data set provided in [Data](./Data/) folder. Import this dataset using method `read_csv`.\n",
    "\n",
    "Based on the code in this lesson, try to do the following:"
   ]
  },
  {
   "cell_type": "markdown",
   "id": "9d538711",
   "metadata": {},
   "source": [
    "1. Get the summary (univariate) statistics of columns 2-10 (accessing indices 1:10) using `describe`"
   ]
  },
  {
   "cell_type": "code",
   "execution_count": null,
   "id": "94028a14",
   "metadata": {},
   "outputs": [],
   "source": []
  },
  {
   "cell_type": "markdown",
   "id": "7e79f2fb-db11-45e6-98aa-acb7d6f6cd7d",
   "metadata": {},
   "source": [
    "2. Plot the means of each column as a bar chart with standard deviations displayed as error bars. Why are some bars invisible?"
   ]
  },
  {
   "cell_type": "code",
   "execution_count": null,
   "id": "1879ef73-6c55-4cc9-9720-8c707d067098",
   "metadata": {},
   "outputs": [],
   "source": [
    "\n"
   ]
  },
  {
   "cell_type": "markdown",
   "id": "8fb2a9d7",
   "metadata": {},
   "source": [
    "3. Extract the values as a NumPy array using the `to_numpy` function. The shape of the array should be (569, 31)."
   ]
  },
  {
   "cell_type": "code",
   "execution_count": null,
   "id": "1cf390dd",
   "metadata": {},
   "outputs": [],
   "source": []
  },
  {
   "cell_type": "markdown",
   "id": "1c4b5ad8",
   "metadata": {},
   "source": [
    "4. Calculate the correlation matrix using `corrcoef` from NumPy, and plot it as a heatmap. The shape of the matrix should be (31, 31). Use `fill_diagonal` to set the diagonal elements to 0."
   ]
  },
  {
   "cell_type": "code",
   "execution_count": null,
   "id": "ccb5b9f8",
   "metadata": {},
   "outputs": [],
   "source": []
  },
  {
   "cell_type": "markdown",
   "id": "dd176cc5",
   "metadata": {},
   "source": [
    "5. Calculate the average column correlation and plot it as a bar chart."
   ]
  },
  {
   "cell_type": "code",
   "execution_count": null,
   "id": "c89936f5",
   "metadata": {},
   "outputs": [],
   "source": []
  },
  {
   "cell_type": "markdown",
   "id": "6474bf5c",
   "metadata": {},
   "source": [
    "6. Calculate the average correlation strength of the dataset."
   ]
  },
  {
   "cell_type": "code",
   "execution_count": null,
   "id": "51f7125f",
   "metadata": {},
   "outputs": [],
   "source": []
  },
  {
   "cell_type": "markdown",
   "id": "ae975225",
   "metadata": {},
   "source": [
    "**Note:** In case of doubt, try to get help from the respective documentation available for Pandas DataFrames, NumPy and Matplotlib."
   ]
  }
 ],
 "metadata": {
  "kernelspec": {
   "display_name": "Python 3 (ipykernel)",
   "language": "python",
   "name": "python3"
  },
  "language_info": {
   "codemirror_mode": {
    "name": "ipython",
    "version": 3
   },
   "file_extension": ".py",
   "mimetype": "text/x-python",
   "name": "python",
   "nbconvert_exporter": "python",
   "pygments_lexer": "ipython3",
   "version": "3.12.4"
  }
 },
 "nbformat": 4,
 "nbformat_minor": 5
}
